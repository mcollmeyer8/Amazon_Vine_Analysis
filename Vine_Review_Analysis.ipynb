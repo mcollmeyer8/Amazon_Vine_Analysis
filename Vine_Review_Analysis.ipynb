{
  "nbformat": 4,
  "nbformat_minor": 0,
  "metadata": {
    "colab": {
      "name": "Vine_Review_Analysis.ipynb",
      "provenance": [],
      "collapsed_sections": [],
      "authorship_tag": "ABX9TyO9g4lMTRa8ssyX1qRRHMRQ",
      "include_colab_link": true
    },
    "kernelspec": {
      "name": "python3",
      "display_name": "Python 3"
    },
    "language_info": {
      "name": "python"
    }
  },
  "cells": [
    {
      "cell_type": "markdown",
      "metadata": {
        "id": "view-in-github",
        "colab_type": "text"
      },
      "source": [
        "<a href=\"https://colab.research.google.com/github/mcollmeyer8/Amazon_Vine_Analysis/blob/main/Vine_Review_Analysis.ipynb\" target=\"_parent\"><img src=\"https://colab.research.google.com/assets/colab-badge.svg\" alt=\"Open In Colab\"/></a>"
      ]
    },
    {
      "cell_type": "code",
      "execution_count": 2,
      "metadata": {
        "colab": {
          "base_uri": "https://localhost:8080/"
        },
        "id": "t4AFKoV6S0oB",
        "outputId": "01227079-387f-4eb4-d981-c95f544c0fd5"
      },
      "outputs": [
        {
          "output_type": "stream",
          "name": "stdout",
          "text": [
            "Get:1 https://cloud.r-project.org/bin/linux/ubuntu bionic-cran40/ InRelease [3,626 B]\n",
            "Ign:2 https://developer.download.nvidia.com/compute/cuda/repos/ubuntu1804/x86_64  InRelease\n",
            "Get:3 http://security.ubuntu.com/ubuntu bionic-security InRelease [88.7 kB]\n",
            "Ign:4 https://developer.download.nvidia.com/compute/machine-learning/repos/ubuntu1804/x86_64  InRelease\n",
            "Get:5 https://developer.download.nvidia.com/compute/cuda/repos/ubuntu1804/x86_64  Release [696 B]\n",
            "Get:6 http://ppa.launchpad.net/c2d4u.team/c2d4u4.0+/ubuntu bionic InRelease [15.9 kB]\n",
            "Hit:7 https://developer.download.nvidia.com/compute/machine-learning/repos/ubuntu1804/x86_64  Release\n",
            "Get:8 https://developer.download.nvidia.com/compute/cuda/repos/ubuntu1804/x86_64  Release.gpg [836 B]\n",
            "Hit:9 http://archive.ubuntu.com/ubuntu bionic InRelease\n",
            "Get:11 http://archive.ubuntu.com/ubuntu bionic-updates InRelease [88.7 kB]\n",
            "Get:12 https://developer.download.nvidia.com/compute/cuda/repos/ubuntu1804/x86_64  Packages [917 kB]\n",
            "Hit:13 http://ppa.launchpad.net/cran/libgit2/ubuntu bionic InRelease\n",
            "Get:14 http://ppa.launchpad.net/deadsnakes/ppa/ubuntu bionic InRelease [15.9 kB]\n",
            "Get:15 http://archive.ubuntu.com/ubuntu bionic-backports InRelease [74.6 kB]\n",
            "Get:16 http://security.ubuntu.com/ubuntu bionic-security/multiverse amd64 Packages [21.1 kB]\n",
            "Get:17 http://security.ubuntu.com/ubuntu bionic-security/main amd64 Packages [2,564 kB]\n",
            "Get:18 http://ppa.launchpad.net/graphics-drivers/ppa/ubuntu bionic InRelease [21.3 kB]\n",
            "Get:19 http://archive.ubuntu.com/ubuntu bionic-updates/universe amd64 Packages [2,252 kB]\n",
            "Get:20 http://ppa.launchpad.net/c2d4u.team/c2d4u4.0+/ubuntu bionic/main Sources [1,827 kB]\n",
            "Get:21 http://security.ubuntu.com/ubuntu bionic-security/restricted amd64 Packages [783 kB]\n",
            "Get:22 http://security.ubuntu.com/ubuntu bionic-security/universe amd64 Packages [1,470 kB]\n",
            "Get:23 http://archive.ubuntu.com/ubuntu bionic-updates/main amd64 Packages [3,034 kB]\n",
            "Get:24 http://archive.ubuntu.com/ubuntu bionic-updates/restricted amd64 Packages [840 kB]\n",
            "Get:25 http://archive.ubuntu.com/ubuntu bionic-updates/multiverse amd64 Packages [29.0 kB]\n",
            "Get:26 http://ppa.launchpad.net/c2d4u.team/c2d4u4.0+/ubuntu bionic/main amd64 Packages [937 kB]\n",
            "Get:27 http://ppa.launchpad.net/deadsnakes/ppa/ubuntu bionic/main amd64 Packages [45.3 kB]\n",
            "Get:28 http://ppa.launchpad.net/graphics-drivers/ppa/ubuntu bionic/main amd64 Packages [42.8 kB]\n",
            "Fetched 15.1 MB in 10s (1,572 kB/s)\n",
            "Reading package lists... Done\n"
          ]
        }
      ],
      "source": [
        "import os\n",
        "# Find the latest version of spark 3.0  from http://www-us.apache.org/dist/spark/ and enter as the spark version\n",
        "# For example:\n",
        "# spark_version = 'spark-3.0.2'\n",
        "spark_version = 'spark-3.2.1'\n",
        "os.environ['SPARK_VERSION']=spark_version\n",
        "\n",
        "# Install Spark and Java\n",
        "!apt-get update\n",
        "!apt-get install openjdk-11-jdk-headless -qq > /dev/null\n",
        "# !wget -q http://www-us.apache.org/dist/spark/$SPARK_VERSION/$SPARK_VERSION-bin-hadoop2.7.tgz\n",
        "!wget -q https://downloads.apache.org/spark/$SPARK_VERSION/$SPARK_VERSION-bin-hadoop3.2.tgz\n",
        "!tar xf $SPARK_VERSION-bin-hadoop3.2.tgz\n",
        "!pip install -q findspark\n",
        "\n",
        "# Set Environment Variables\n",
        "os.environ[\"JAVA_HOME\"] = \"/usr/lib/jvm/java-11-openjdk-amd64\"\n",
        "os.environ[\"SPARK_HOME\"] = f\"/content/{spark_version}-bin-hadoop3.2\"\n",
        "\n",
        "# Start a SparkSession\n",
        "import findspark\n",
        "findspark.init()"
      ]
    },
    {
      "cell_type": "code",
      "source": [
        "# Download the Postgres driver that will allow Spark to interact with Postgres.\n",
        "!wget https://jdbc.postgresql.org/download/postgresql-42.2.16.jar"
      ],
      "metadata": {
        "colab": {
          "base_uri": "https://localhost:8080/"
        },
        "id": "G2GdmwtVS_R6",
        "outputId": "b45d08f5-3e6d-4eb2-96f8-354653aa71ee"
      },
      "execution_count": 3,
      "outputs": [
        {
          "output_type": "stream",
          "name": "stdout",
          "text": [
            "--2022-02-21 18:12:48--  https://jdbc.postgresql.org/download/postgresql-42.2.16.jar\n",
            "Resolving jdbc.postgresql.org (jdbc.postgresql.org)... 72.32.157.228, 2001:4800:3e1:1::228\n",
            "Connecting to jdbc.postgresql.org (jdbc.postgresql.org)|72.32.157.228|:443... connected.\n",
            "HTTP request sent, awaiting response... 200 OK\n",
            "Length: 1002883 (979K) [application/java-archive]\n",
            "Saving to: ‘postgresql-42.2.16.jar’\n",
            "\n",
            "postgresql-42.2.16. 100%[===================>] 979.38K  1.22MB/s    in 0.8s    \n",
            "\n",
            "2022-02-21 18:12:50 (1.22 MB/s) - ‘postgresql-42.2.16.jar’ saved [1002883/1002883]\n",
            "\n"
          ]
        }
      ]
    },
    {
      "cell_type": "code",
      "source": [
        "from pyspark.sql import SparkSession\n",
        "spark = SparkSession.builder.appName(\"M16-Amazon-Challenge\").config(\"spark.driver.extraClassPath\",\"/content/postgresql-42.2.16.jar\").getOrCreate()"
      ],
      "metadata": {
        "id": "SgWxgVTPUgSK"
      },
      "execution_count": 4,
      "outputs": []
    },
    {
      "cell_type": "code",
      "source": [
        "from pyspark import SparkFiles\n",
        "url = \"https://s3.amazonaws.com/amazon-reviews-pds/tsv/amazon_reviews_us_Beauty_v1_00.tsv.gz\"\n",
        "spark.sparkContext.addFile(url)"
      ],
      "metadata": {
        "id": "Hxce-dasUj--"
      },
      "execution_count": 5,
      "outputs": []
    },
    {
      "cell_type": "code",
      "source": [
        "from pyspark.sql.functions import to_date\n",
        "from pyspark.sql.functions import col\n",
        "from pyspark.sql.types import DecimalType, StructType, StructField\n",
        "\n",
        "# Read in the Review dataset as a DataFrame\n",
        "df = spark.read.option(\"encoding\", \"UTF-8\").csv(SparkFiles.get(\"amazon_reviews_us_Beauty_v1_00.tsv.gz\"), sep=\"\\t\", header=True, inferSchema=True)\n",
        "df.show()"
      ],
      "metadata": {
        "colab": {
          "base_uri": "https://localhost:8080/"
        },
        "id": "TptSOtk9UxjD",
        "outputId": "1e530252-8e67-41fb-9859-1310bca3f06e"
      },
      "execution_count": 38,
      "outputs": [
        {
          "output_type": "stream",
          "name": "stdout",
          "text": [
            "+-----------+-----------+--------------+----------+--------------+--------------------+----------------+-----------+-------------+-----------+----+-----------------+--------------------+---------------------+-----------+\n",
            "|marketplace|customer_id|     review_id|product_id|product_parent|       product_title|product_category|star_rating|helpful_votes|total_votes|vine|verified_purchase|     review_headline|          review_body|review_date|\n",
            "+-----------+-----------+--------------+----------+--------------+--------------------+----------------+-----------+-------------+-----------+----+-----------------+--------------------+---------------------+-----------+\n",
            "|         US|    1797882|R3I2DHQBR577SS|B001ANOOOE|       2102612|The Naked Bee Vit...|          Beauty|          5|            0|          0|   N|                Y|          Five Stars| Love this, excell...| 2015-08-31|\n",
            "|         US|   18381298|R1QNE9NQFJC2Y4|B0016J22EQ|     106393691|Alba Botanica Sun...|          Beauty|          5|            0|          0|   N|                Y|Thank you Alba Bo...| The great thing a...| 2015-08-31|\n",
            "|         US|   19242472|R3LIDG2Q4LJBAO|B00HU6UQAG|     375449471|Elysee Infusion S...|          Beauty|          5|            0|          0|   N|                Y|          Five Stars| Great Product, I'...| 2015-08-31|\n",
            "|         US|   19551372|R3KSZHPAEVPEAL|B002HWS7RM|     255651889|Diane D722 Color,...|          Beauty|          5|            0|          0|   N|                Y|          GOOD DEAL!| I use them as sho...| 2015-08-31|\n",
            "|         US|   14802407| RAI2OIG50KZ43|B00SM99KWU|     116158747|Biore UV Aqua Ric...|          Beauty|          5|            0|          0|   N|                Y|this soaks in qui...| This is my go-to ...| 2015-08-31|\n",
            "|         US|    2909389|R1R30FA4RB5P54|B000NYL1Z6|     166146615|Murad Clarifying ...|          Beauty|          4|            0|          0|   N|                Y|          Four Stars|                 Good| 2015-08-31|\n",
            "|         US|   19397215|R30IJKCGJBGPJH|B001SYWTFG|     111742328|CoverGirl Queen C...|          Beauty|          5|            0|          0|   N|                Y|            Good buy| Great eyeliner, d...| 2015-08-31|\n",
            "|         US|    3195210|R18GLJJPVQ1OVH|B005F2EVMQ|     255803087|Bifesta Mandom Ey...|          Beauty|          5|            0|          0|   N|                Y|          Five Stars|Best makeup remover！| 2015-08-31|\n",
            "|         US|   52216383| R8TVYIJXLYJT0|B00M1SUW7K|     246816549|Can You Handlebar...|          Beauty|          5|            0|          0|   N|                Y|Tame the wild mus...| This is a great p...| 2015-08-31|\n",
            "|         US|   10278216|R1CJGF6M3PVHEZ|B001KYQA1S|       9612905|Maybelline Great ...|          Beauty|          1|            0|          2|   N|                Y|but it's like hav...| I thought it woul...| 2015-08-31|\n",
            "|         US|   24655453|R2A30ALEGLMCGN|B00SAQ9DZY|     292127037|12 New, High Qual...|          Beauty|          4|            1|          1|   N|                Y|        Good Product| These are great f...| 2015-08-31|\n",
            "|         US|   30788223|R134GP1Y3EQZ1L|B00HFQQ0VU|     311309827|Waterpik Aquarius...|          Beauty|          5|            0|          0|   N|                Y| Optimum Oral Health| Just got this.  N...| 2015-08-31|\n",
            "|         US|   11257536| R6CE3SOIUJGP4|B00PYL8MAA|     390030149|Proganix Agave Ne...|          Beauty|          4|            1|          1|   N|                N|   Love this cream !| Wish I had discov...| 2015-08-31|\n",
            "|         US|   29605778|R37CDLQZUPDZVM|B00D9NV2D4|     794858888|         Shea Butter|          Beauty|          5|            0|          0|   N|                Y|It works so much ...| I bought this to ...| 2015-08-31|\n",
            "|         US|   41238422|R1KH9XCK6GYT26|B008Y9M412|     874223919|Etude House Fresh...|          Beauty|          5|            0|          0|   N|                Y|          Five Stars| The tint is aweso...| 2015-08-31|\n",
            "|         US|   23620123|R3I4BQ6654MQNA|B00FWXBLHG|     464001209|Vintage Lil' Spon...|          Beauty|          5|            1|          1|   N|                Y|Great product, fa...| I'm in love with ...| 2015-08-31|\n",
            "|         US|   25564245|R3LUPG356F1D40|B003KL8CB0|     328680790|Jenna Jameson Hea...|          Beauty|          5|            3|          3|   N|                N|Does not smell ch...| I was given this ...| 2015-08-31|\n",
            "|         US|     801375|R3HNVRTHL9S2ZB|B006R2LNV0|     620737389|Korean Cosmetics_...|          Beauty|          5|            0|          0|   N|                N|          Five Stars| Magical everybody...| 2015-08-31|\n",
            "|         US|    9478730| R5HKL5RD4IUT8|B00SMIIR0W|     351973146|Schick Hydro Silk...|          Beauty|          5|            0|          0|   N|                Y|Love this Razor/T...| Works fantastic! ...| 2015-08-31|\n",
            "|         US|   18418407|R37Z8NBTHPR853|B003UKKH6O|      10034795|Oral-B Vitality P...|          Beauty|          5|            0|          0|   N|                Y|          Five Stars| excellent battery...| 2015-08-31|\n",
            "+-----------+-----------+--------------+----------+--------------+--------------------+----------------+-----------+-------------+-----------+----+-----------------+--------------------+---------------------+-----------+\n",
            "only showing top 20 rows\n",
            "\n"
          ]
        }
      ]
    },
    {
      "cell_type": "code",
      "source": [
        "# Create the vine_table DataFrame\n",
        "vine_df = df.select([\"review_id\", \"star_rating\", \"helpful_votes\", \"total_votes\", \"vine\", \"verified_purchase\"])\n",
        "vine_df.show()"
      ],
      "metadata": {
        "colab": {
          "base_uri": "https://localhost:8080/"
        },
        "id": "27juPdciU3GM",
        "outputId": "198702dc-d7d2-44ba-9ae5-3bb1eaad9807"
      },
      "execution_count": 7,
      "outputs": [
        {
          "output_type": "stream",
          "name": "stdout",
          "text": [
            "+--------------+-----------+-------------+-----------+----+-----------------+\n",
            "|     review_id|star_rating|helpful_votes|total_votes|vine|verified_purchase|\n",
            "+--------------+-----------+-------------+-----------+----+-----------------+\n",
            "|R3I2DHQBR577SS|          5|            0|          0|   N|                Y|\n",
            "|R1QNE9NQFJC2Y4|          5|            0|          0|   N|                Y|\n",
            "|R3LIDG2Q4LJBAO|          5|            0|          0|   N|                Y|\n",
            "|R3KSZHPAEVPEAL|          5|            0|          0|   N|                Y|\n",
            "| RAI2OIG50KZ43|          5|            0|          0|   N|                Y|\n",
            "|R1R30FA4RB5P54|          4|            0|          0|   N|                Y|\n",
            "|R30IJKCGJBGPJH|          5|            0|          0|   N|                Y|\n",
            "|R18GLJJPVQ1OVH|          5|            0|          0|   N|                Y|\n",
            "| R8TVYIJXLYJT0|          5|            0|          0|   N|                Y|\n",
            "|R1CJGF6M3PVHEZ|          1|            0|          2|   N|                Y|\n",
            "|R2A30ALEGLMCGN|          4|            1|          1|   N|                Y|\n",
            "|R134GP1Y3EQZ1L|          5|            0|          0|   N|                Y|\n",
            "| R6CE3SOIUJGP4|          4|            1|          1|   N|                N|\n",
            "|R37CDLQZUPDZVM|          5|            0|          0|   N|                Y|\n",
            "|R1KH9XCK6GYT26|          5|            0|          0|   N|                Y|\n",
            "|R3I4BQ6654MQNA|          5|            1|          1|   N|                Y|\n",
            "|R3LUPG356F1D40|          5|            3|          3|   N|                N|\n",
            "|R3HNVRTHL9S2ZB|          5|            0|          0|   N|                N|\n",
            "| R5HKL5RD4IUT8|          5|            0|          0|   N|                Y|\n",
            "|R37Z8NBTHPR853|          5|            0|          0|   N|                Y|\n",
            "+--------------+-----------+-------------+-----------+----+-----------------+\n",
            "only showing top 20 rows\n",
            "\n"
          ]
        }
      ]
    },
    {
      "cell_type": "code",
      "source": [
        "# Filter the data and create a new DataFrame or table to retrieve all the rows where the total_votes count is equal to or greater than 20\n",
        "total_votes_df = vine_df.filter(vine_df.total_votes >= \"20\")\n",
        "total_votes_df.show()"
      ],
      "metadata": {
        "colab": {
          "base_uri": "https://localhost:8080/"
        },
        "id": "D8QJSI4trR-v",
        "outputId": "7685fa3c-ad9d-4b4f-d405-1a92ff82dc40"
      },
      "execution_count": 27,
      "outputs": [
        {
          "output_type": "stream",
          "name": "stdout",
          "text": [
            "+--------------+-----------+-------------+-----------+----+-----------------+\n",
            "|     review_id|star_rating|helpful_votes|total_votes|vine|verified_purchase|\n",
            "+--------------+-----------+-------------+-----------+----+-----------------+\n",
            "|R2QRUE9REK8OUC|          5|           18|         23|   N|                Y|\n",
            "|R2POXRW6PXHXZG|          5|           25|         30|   N|                Y|\n",
            "| RZN43XRZ89IIJ|          3|           10|         27|   N|                N|\n",
            "|R29Q748WSHZ3SN|          5|           23|         24|   N|                Y|\n",
            "| R46UL5G5HEPRZ|          5|           18|         20|   N|                N|\n",
            "|R2UQHSNWU6WTZX|          5|           74|         76|   N|                N|\n",
            "|R2HSRI3D6E2M9Y|          5|           69|         71|   N|                Y|\n",
            "|R17ARFSDV555EW|          1|           29|         29|   N|                Y|\n",
            "|R3GL5156FFEDQA|          5|           20|         21|   N|                Y|\n",
            "|R29KQJC9PIYWQS|          5|           25|         26|   N|                Y|\n",
            "| RYWUJT2A33VJH|          5|           20|         22|   N|                N|\n",
            "|R1KH5L45CWI30I|          5|           19|         20|   N|                N|\n",
            "|R1RKEBF47UEIVH|          5|           26|         30|   N|                N|\n",
            "|R3N1SCGIU1LV1U|          1|            2|         20|   N|                Y|\n",
            "|R2WIB8BHF77XIG|          4|           69|         78|   N|                N|\n",
            "|R20T4C0DA38YBD|          5|           22|         23|   N|                Y|\n",
            "| REUKY9DLNJXYF|          4|           21|         22|   N|                Y|\n",
            "|R2OH5QLD7MGJTG|          5|           48|         48|   N|                Y|\n",
            "|R179M7NOS1365W|          5|           88|         91|   N|                Y|\n",
            "|R2NPNCGM6T1JBA|          3|          253|        259|   N|                Y|\n",
            "+--------------+-----------+-------------+-----------+----+-----------------+\n",
            "only showing top 20 rows\n",
            "\n"
          ]
        }
      ]
    },
    {
      "cell_type": "code",
      "source": [
        "# Filter the new DataFrame or table created in Step 1 and create a new DataFrame or table to retrieve all the rows where \n",
        "# the number of helpful_votes divided by total_votes is equal to or greater than 50%.\n",
        "# Step 1: Add a column for helpful_votes % of total_votes\n",
        "helpful_votes_df = total_votes_df.withColumn('helpful_votes_percentage', total_votes_df[\"helpful_votes\"]/total_votes_df[\"total_votes\"]*100)\n",
        "helpful_votes_df.show()"
      ],
      "metadata": {
        "colab": {
          "base_uri": "https://localhost:8080/"
        },
        "id": "_x7-q8CacZuC",
        "outputId": "4fa97cac-c108-42a9-9ae1-a7c294b11b9c"
      },
      "execution_count": 50,
      "outputs": [
        {
          "output_type": "stream",
          "name": "stdout",
          "text": [
            "+--------------+-----------+-------------+-----------+----+-----------------+------------------------+\n",
            "|     review_id|star_rating|helpful_votes|total_votes|vine|verified_purchase|helpful_votes_percentage|\n",
            "+--------------+-----------+-------------+-----------+----+-----------------+------------------------+\n",
            "|R2QRUE9REK8OUC|          5|           18|         23|   N|                Y|       78.26086956521739|\n",
            "|R2POXRW6PXHXZG|          5|           25|         30|   N|                Y|       83.33333333333334|\n",
            "| RZN43XRZ89IIJ|          3|           10|         27|   N|                N|       37.03703703703704|\n",
            "|R29Q748WSHZ3SN|          5|           23|         24|   N|                Y|       95.83333333333334|\n",
            "| R46UL5G5HEPRZ|          5|           18|         20|   N|                N|                    90.0|\n",
            "|R2UQHSNWU6WTZX|          5|           74|         76|   N|                N|       97.36842105263158|\n",
            "|R2HSRI3D6E2M9Y|          5|           69|         71|   N|                Y|        97.1830985915493|\n",
            "|R17ARFSDV555EW|          1|           29|         29|   N|                Y|                   100.0|\n",
            "|R3GL5156FFEDQA|          5|           20|         21|   N|                Y|       95.23809523809523|\n",
            "|R29KQJC9PIYWQS|          5|           25|         26|   N|                Y|       96.15384615384616|\n",
            "| RYWUJT2A33VJH|          5|           20|         22|   N|                N|        90.9090909090909|\n",
            "|R1KH5L45CWI30I|          5|           19|         20|   N|                N|                    95.0|\n",
            "|R1RKEBF47UEIVH|          5|           26|         30|   N|                N|       86.66666666666667|\n",
            "|R3N1SCGIU1LV1U|          1|            2|         20|   N|                Y|                    10.0|\n",
            "|R2WIB8BHF77XIG|          4|           69|         78|   N|                N|       88.46153846153845|\n",
            "|R20T4C0DA38YBD|          5|           22|         23|   N|                Y|       95.65217391304348|\n",
            "| REUKY9DLNJXYF|          4|           21|         22|   N|                Y|       95.45454545454545|\n",
            "|R2OH5QLD7MGJTG|          5|           48|         48|   N|                Y|                   100.0|\n",
            "|R179M7NOS1365W|          5|           88|         91|   N|                Y|        96.7032967032967|\n",
            "|R2NPNCGM6T1JBA|          3|          253|        259|   N|                Y|       97.68339768339769|\n",
            "+--------------+-----------+-------------+-----------+----+-----------------+------------------------+\n",
            "only showing top 20 rows\n",
            "\n"
          ]
        }
      ]
    },
    {
      "cell_type": "code",
      "source": [
        "# Format helpful_votes_percentage column\n",
        "helpful_vote_df = helpful_votes_df.withColumn(\"helpful_votes_percentage\", helpful_votes_df[\"helpful_votes_percentage\"].cast(DecimalType(10,2)))\n",
        "helpful_vote_df.show()"
      ],
      "metadata": {
        "colab": {
          "base_uri": "https://localhost:8080/"
        },
        "id": "XmKaNMvex24g",
        "outputId": "86b11467-68a5-4c0c-d6f5-363130f1c6f9"
      },
      "execution_count": 51,
      "outputs": [
        {
          "output_type": "stream",
          "name": "stdout",
          "text": [
            "+--------------+-----------+-------------+-----------+----+-----------------+------------------------+\n",
            "|     review_id|star_rating|helpful_votes|total_votes|vine|verified_purchase|helpful_votes_percentage|\n",
            "+--------------+-----------+-------------+-----------+----+-----------------+------------------------+\n",
            "|R2QRUE9REK8OUC|          5|           18|         23|   N|                Y|                   78.26|\n",
            "|R2POXRW6PXHXZG|          5|           25|         30|   N|                Y|                   83.33|\n",
            "| RZN43XRZ89IIJ|          3|           10|         27|   N|                N|                   37.04|\n",
            "|R29Q748WSHZ3SN|          5|           23|         24|   N|                Y|                   95.83|\n",
            "| R46UL5G5HEPRZ|          5|           18|         20|   N|                N|                   90.00|\n",
            "|R2UQHSNWU6WTZX|          5|           74|         76|   N|                N|                   97.37|\n",
            "|R2HSRI3D6E2M9Y|          5|           69|         71|   N|                Y|                   97.18|\n",
            "|R17ARFSDV555EW|          1|           29|         29|   N|                Y|                  100.00|\n",
            "|R3GL5156FFEDQA|          5|           20|         21|   N|                Y|                   95.24|\n",
            "|R29KQJC9PIYWQS|          5|           25|         26|   N|                Y|                   96.15|\n",
            "| RYWUJT2A33VJH|          5|           20|         22|   N|                N|                   90.91|\n",
            "|R1KH5L45CWI30I|          5|           19|         20|   N|                N|                   95.00|\n",
            "|R1RKEBF47UEIVH|          5|           26|         30|   N|                N|                   86.67|\n",
            "|R3N1SCGIU1LV1U|          1|            2|         20|   N|                Y|                   10.00|\n",
            "|R2WIB8BHF77XIG|          4|           69|         78|   N|                N|                   88.46|\n",
            "|R20T4C0DA38YBD|          5|           22|         23|   N|                Y|                   95.65|\n",
            "| REUKY9DLNJXYF|          4|           21|         22|   N|                Y|                   95.45|\n",
            "|R2OH5QLD7MGJTG|          5|           48|         48|   N|                Y|                  100.00|\n",
            "|R179M7NOS1365W|          5|           88|         91|   N|                Y|                   96.70|\n",
            "|R2NPNCGM6T1JBA|          3|          253|        259|   N|                Y|                   97.68|\n",
            "+--------------+-----------+-------------+-----------+----+-----------------+------------------------+\n",
            "only showing top 20 rows\n",
            "\n"
          ]
        }
      ]
    },
    {
      "cell_type": "code",
      "source": [
        "# Step 2: Retrieve all the rows where the number of helpful_votes divided by total_votes is equal to or greater than 50%.\n",
        "higher_helpful_votes_df = helpful_vote_df.filter(helpful_vote_df.helpful_votes_percentage >= \"50\")\n",
        "higher_helpful_votes_df.show()"
      ],
      "metadata": {
        "colab": {
          "base_uri": "https://localhost:8080/"
        },
        "id": "xP_50x2N9XI0",
        "outputId": "1bbb5da2-4b05-49f2-925f-c664f8c8f8a5"
      },
      "execution_count": 52,
      "outputs": [
        {
          "output_type": "stream",
          "name": "stdout",
          "text": [
            "+--------------+-----------+-------------+-----------+----+-----------------+------------------------+\n",
            "|     review_id|star_rating|helpful_votes|total_votes|vine|verified_purchase|helpful_votes_percentage|\n",
            "+--------------+-----------+-------------+-----------+----+-----------------+------------------------+\n",
            "|R2QRUE9REK8OUC|          5|           18|         23|   N|                Y|                   78.26|\n",
            "|R2POXRW6PXHXZG|          5|           25|         30|   N|                Y|                   83.33|\n",
            "|R29Q748WSHZ3SN|          5|           23|         24|   N|                Y|                   95.83|\n",
            "| R46UL5G5HEPRZ|          5|           18|         20|   N|                N|                   90.00|\n",
            "|R2UQHSNWU6WTZX|          5|           74|         76|   N|                N|                   97.37|\n",
            "|R2HSRI3D6E2M9Y|          5|           69|         71|   N|                Y|                   97.18|\n",
            "|R17ARFSDV555EW|          1|           29|         29|   N|                Y|                  100.00|\n",
            "|R3GL5156FFEDQA|          5|           20|         21|   N|                Y|                   95.24|\n",
            "|R29KQJC9PIYWQS|          5|           25|         26|   N|                Y|                   96.15|\n",
            "| RYWUJT2A33VJH|          5|           20|         22|   N|                N|                   90.91|\n",
            "|R1KH5L45CWI30I|          5|           19|         20|   N|                N|                   95.00|\n",
            "|R1RKEBF47UEIVH|          5|           26|         30|   N|                N|                   86.67|\n",
            "|R2WIB8BHF77XIG|          4|           69|         78|   N|                N|                   88.46|\n",
            "|R20T4C0DA38YBD|          5|           22|         23|   N|                Y|                   95.65|\n",
            "| REUKY9DLNJXYF|          4|           21|         22|   N|                Y|                   95.45|\n",
            "|R2OH5QLD7MGJTG|          5|           48|         48|   N|                Y|                  100.00|\n",
            "|R179M7NOS1365W|          5|           88|         91|   N|                Y|                   96.70|\n",
            "|R2NPNCGM6T1JBA|          3|          253|        259|   N|                Y|                   97.68|\n",
            "|R345Z1BTFABFY0|          1|           19|         22|   N|                Y|                   86.36|\n",
            "|R2Z6FGGU3VNCT2|          1|           41|         46|   N|                N|                   89.13|\n",
            "+--------------+-----------+-------------+-----------+----+-----------------+------------------------+\n",
            "only showing top 20 rows\n",
            "\n"
          ]
        }
      ]
    },
    {
      "cell_type": "code",
      "source": [
        "# Filter the DataFrame or table created in Step 2, and create a new DataFrame or table that retrieves all the rows where \n",
        "# a review was written as part of the Vine program (paid), vine == 'Y'.\n",
        "vine_reviews_df = higher_helpful_votes_df.filter(higher_helpful_votes_df.vine == \"Y\")\n",
        "vine_reviews_df.show()"
      ],
      "metadata": {
        "colab": {
          "base_uri": "https://localhost:8080/"
        },
        "id": "0pgT2rCj3mL0",
        "outputId": "ee4cff16-548f-4f0c-bd06-1336b6f13774"
      },
      "execution_count": 54,
      "outputs": [
        {
          "output_type": "stream",
          "name": "stdout",
          "text": [
            "+--------------+-----------+-------------+-----------+----+-----------------+------------------------+\n",
            "|     review_id|star_rating|helpful_votes|total_votes|vine|verified_purchase|helpful_votes_percentage|\n",
            "+--------------+-----------+-------------+-----------+----+-----------------+------------------------+\n",
            "|R106V6GUNWRSSS|          5|          857|        889|   Y|                N|                   96.40|\n",
            "|R37N8KZS48W36A|          5|           36|         37|   Y|                N|                   97.30|\n",
            "|R1LNEQ2MQE03PD|          5|           49|         66|   Y|                N|                   74.24|\n",
            "|R1ECPWPUNK36ES|          5|           29|         31|   Y|                N|                   93.55|\n",
            "|R16BUM7UQZLOM6|          3|          107|        112|   Y|                N|                   95.54|\n",
            "| R7NWIOCA5RVPR|          5|           19|         26|   Y|                N|                   73.08|\n",
            "|R3NTGOCUZB33JK|          5|           40|         47|   Y|                Y|                   85.11|\n",
            "| RQX3RHGMG7UBN|          5|          186|        200|   Y|                N|                   93.00|\n",
            "|R3E6QYKZDST042|          4|           33|         39|   Y|                N|                   84.62|\n",
            "|R2GR106PWUN85O|          4|           36|         39|   Y|                N|                   92.31|\n",
            "| R5AJK8HCOKXV5|          4|           20|         23|   Y|                N|                   86.96|\n",
            "| RCHD0PMJO6Y52|          3|           17|         20|   Y|                N|                   85.00|\n",
            "|R1AF6ANE5JFP4D|          5|           50|         55|   Y|                N|                   90.91|\n",
            "|R2FKVTMWD52KEY|          4|          265|        276|   Y|                N|                   96.01|\n",
            "| RZUT8OQAGWOYE|          5|           46|         49|   Y|                N|                   93.88|\n",
            "| RW89H46BTJJWI|          2|           20|         20|   Y|                N|                  100.00|\n",
            "| RQ0N3J1IZKGMA|          1|           63|         63|   Y|                N|                  100.00|\n",
            "|R1Z88KA5VANTXS|          2|           42|         47|   Y|                N|                   89.36|\n",
            "|R3M9NW8LPEKTWX|          5|           20|         21|   Y|                Y|                   95.24|\n",
            "|R16QHBYJJ01R4P|          5|           23|         24|   Y|                N|                   95.83|\n",
            "+--------------+-----------+-------------+-----------+----+-----------------+------------------------+\n",
            "only showing top 20 rows\n",
            "\n"
          ]
        }
      ]
    },
    {
      "cell_type": "code",
      "source": [
        "# Repeat Step 3, but this time retrieve all the rows where the review was not part of the Vine program (unpaid), vine == 'N'.\n",
        "no_vine_reviews_df = higher_helpful_votes_df.filter(higher_helpful_votes_df.vine == \"N\")\n",
        "no_vine_reviews_df.show()"
      ],
      "metadata": {
        "colab": {
          "base_uri": "https://localhost:8080/"
        },
        "id": "7oghOpom51WF",
        "outputId": "43afc338-1e95-4a76-a6af-c34851ea7d42"
      },
      "execution_count": 55,
      "outputs": [
        {
          "output_type": "stream",
          "name": "stdout",
          "text": [
            "+--------------+-----------+-------------+-----------+----+-----------------+------------------------+\n",
            "|     review_id|star_rating|helpful_votes|total_votes|vine|verified_purchase|helpful_votes_percentage|\n",
            "+--------------+-----------+-------------+-----------+----+-----------------+------------------------+\n",
            "|R2QRUE9REK8OUC|          5|           18|         23|   N|                Y|                   78.26|\n",
            "|R2POXRW6PXHXZG|          5|           25|         30|   N|                Y|                   83.33|\n",
            "|R29Q748WSHZ3SN|          5|           23|         24|   N|                Y|                   95.83|\n",
            "| R46UL5G5HEPRZ|          5|           18|         20|   N|                N|                   90.00|\n",
            "|R2UQHSNWU6WTZX|          5|           74|         76|   N|                N|                   97.37|\n",
            "|R2HSRI3D6E2M9Y|          5|           69|         71|   N|                Y|                   97.18|\n",
            "|R17ARFSDV555EW|          1|           29|         29|   N|                Y|                  100.00|\n",
            "|R3GL5156FFEDQA|          5|           20|         21|   N|                Y|                   95.24|\n",
            "|R29KQJC9PIYWQS|          5|           25|         26|   N|                Y|                   96.15|\n",
            "| RYWUJT2A33VJH|          5|           20|         22|   N|                N|                   90.91|\n",
            "|R1KH5L45CWI30I|          5|           19|         20|   N|                N|                   95.00|\n",
            "|R1RKEBF47UEIVH|          5|           26|         30|   N|                N|                   86.67|\n",
            "|R2WIB8BHF77XIG|          4|           69|         78|   N|                N|                   88.46|\n",
            "|R20T4C0DA38YBD|          5|           22|         23|   N|                Y|                   95.65|\n",
            "| REUKY9DLNJXYF|          4|           21|         22|   N|                Y|                   95.45|\n",
            "|R2OH5QLD7MGJTG|          5|           48|         48|   N|                Y|                  100.00|\n",
            "|R179M7NOS1365W|          5|           88|         91|   N|                Y|                   96.70|\n",
            "|R2NPNCGM6T1JBA|          3|          253|        259|   N|                Y|                   97.68|\n",
            "|R345Z1BTFABFY0|          1|           19|         22|   N|                Y|                   86.36|\n",
            "|R2Z6FGGU3VNCT2|          1|           41|         46|   N|                N|                   89.13|\n",
            "+--------------+-----------+-------------+-----------+----+-----------------+------------------------+\n",
            "only showing top 20 rows\n",
            "\n"
          ]
        }
      ]
    },
    {
      "cell_type": "code",
      "source": [
        "# Determine the total number of reviews, the number of 5-star reviews, and the percentage of 5-star reviews for the two types of review (paid vs unpaid).\n",
        "# Step 1: Determine the total number of reviews\n",
        "df.count()"
      ],
      "metadata": {
        "colab": {
          "base_uri": "https://localhost:8080/"
        },
        "id": "ssUbkhxx6kxE",
        "outputId": "2d0e541f-bff2-47fc-aaa7-28157ca6314d"
      },
      "execution_count": 92,
      "outputs": [
        {
          "output_type": "execute_result",
          "data": {
            "text/plain": [
              "5115666"
            ]
          },
          "metadata": {},
          "execution_count": 92
        }
      ]
    },
    {
      "cell_type": "code",
      "source": [
        "# Step 2: Determine the number of 5-star reviews\n",
        "five_star_reviews_df = df.filter(df.star_rating == \"5\")\n",
        "five_star_reviews_df.count()"
      ],
      "metadata": {
        "colab": {
          "base_uri": "https://localhost:8080/"
        },
        "id": "wR8PVId2_wWy",
        "outputId": "40fa3199-616d-42fa-8d48-af7c1227fea0"
      },
      "execution_count": 91,
      "outputs": [
        {
          "output_type": "execute_result",
          "data": {
            "text/plain": [
              "3254753"
            ]
          },
          "metadata": {},
          "execution_count": 91
        }
      ]
    },
    {
      "cell_type": "code",
      "source": [
        "# Step 3: Count of 5-star reviews for paid reviews\n",
        "paid_five_star_reviews_df = five_star_reviews_df.filter(five_star_reviews_df.vine == \"Y\")\n",
        "paid_five_star_reviews_df.count()"
      ],
      "metadata": {
        "colab": {
          "base_uri": "https://localhost:8080/"
        },
        "id": "RN1IqRRWHr8T",
        "outputId": "0137d4b5-dda1-43db-fc6f-34d0ac26801c"
      },
      "execution_count": 93,
      "outputs": [
        {
          "output_type": "execute_result",
          "data": {
            "text/plain": [
              "12429"
            ]
          },
          "metadata": {},
          "execution_count": 93
        }
      ]
    },
    {
      "cell_type": "code",
      "source": [
        "# Step 4: Percentage of 5-star reviews for paid reviews\n",
        "paid_five_star_review_percentage = (paid_five_star_reviews_df.count()/ five_star_reviews_df.count())*100\n",
        "paid_five_star_review_percentage"
      ],
      "metadata": {
        "colab": {
          "base_uri": "https://localhost:8080/"
        },
        "id": "wscui9OPIcRK",
        "outputId": "80428667-a805-43eb-a35b-3858dedbd87f"
      },
      "execution_count": 103,
      "outputs": [
        {
          "output_type": "execute_result",
          "data": {
            "text/plain": [
              "0.38187229568572484"
            ]
          },
          "metadata": {},
          "execution_count": 103
        }
      ]
    },
    {
      "cell_type": "code",
      "source": [
        "# Step 5: Count of 5-star reviews for non-paid reviews\n",
        "non_paid_five_star_reviews_df = five_star_reviews_df.filter(five_star_reviews_df.vine == \"N\")\n",
        "non_paid_five_star_reviews_df.count()"
      ],
      "metadata": {
        "colab": {
          "base_uri": "https://localhost:8080/"
        },
        "id": "c9gJbD91KSs-",
        "outputId": "b6661147-4c02-4e2a-a0d4-1d0c1fa9da14"
      },
      "execution_count": 99,
      "outputs": [
        {
          "output_type": "execute_result",
          "data": {
            "text/plain": [
              "3242324"
            ]
          },
          "metadata": {},
          "execution_count": 99
        }
      ]
    },
    {
      "cell_type": "code",
      "source": [
        "# Step 6: Percentage of 5-star reviews for non-paid reviews\n",
        "non_paid_five_star_review_percentage = (non_paid_five_star_reviews_df.count()/ five_star_reviews_df.count())*100\n",
        "non_paid_five_star_review_percentage"
      ],
      "metadata": {
        "colab": {
          "base_uri": "https://localhost:8080/"
        },
        "id": "NDGQN14AUfsE",
        "outputId": "226ea5f2-bd2c-4fb6-cf91-257d4549ea66"
      },
      "execution_count": 104,
      "outputs": [
        {
          "output_type": "execute_result",
          "data": {
            "text/plain": [
              "99.61812770431428"
            ]
          },
          "metadata": {},
          "execution_count": 104
        }
      ]
    },
    {
      "cell_type": "code",
      "source": [
        "# Total Vine reviews\n",
        "vine_reviews_df = df.filter(df.vine == \"Y\")\n",
        "vine_reviews_df.count()"
      ],
      "metadata": {
        "colab": {
          "base_uri": "https://localhost:8080/"
        },
        "id": "oGQqhuvMU4Um",
        "outputId": "3163a265-593c-4260-9248-b1f729a76864"
      },
      "execution_count": 105,
      "outputs": [
        {
          "output_type": "execute_result",
          "data": {
            "text/plain": [
              "33309"
            ]
          },
          "metadata": {},
          "execution_count": 105
        }
      ]
    },
    {
      "cell_type": "code",
      "source": [
        "# Total non-Vine reviews\n",
        "vine_reviews_df = df.filter(df.vine == \"N\")\n",
        "vine_reviews_df.count()"
      ],
      "metadata": {
        "colab": {
          "base_uri": "https://localhost:8080/"
        },
        "id": "DkRq4d_aeYy7",
        "outputId": "fe685f9f-4df6-42ba-8a36-89ac930d0023"
      },
      "execution_count": 106,
      "outputs": [
        {
          "output_type": "execute_result",
          "data": {
            "text/plain": [
              "5082143"
            ]
          },
          "metadata": {},
          "execution_count": 106
        }
      ]
    },
    {
      "cell_type": "code",
      "source": [
        ""
      ],
      "metadata": {
        "id": "M4p0qd5gfBa2"
      },
      "execution_count": null,
      "outputs": []
    }
  ]
}